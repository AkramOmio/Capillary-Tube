{
 "cells": [
  {
   "cell_type": "code",
   "execution_count": 1,
   "id": "2af3aa80-d138-4362-9329-c0400a7f4f41",
   "metadata": {},
   "outputs": [],
   "source": [
    "import CoolProp.CoolProp as CP\n",
    "import numpy as np"
   ]
  },
  {
   "cell_type": "code",
   "execution_count": 2,
   "id": "531d8845-a751-439f-b5d0-4fad6a74b7b0",
   "metadata": {},
   "outputs": [],
   "source": [
    "def capillary_length(P4,P2,dt,d,m):\n",
    "    print('Condenser Pressure (MPa): %0.3f'%(P4/1e6))\n",
    "    print('Evaporator Pressure (MPa): %0.3f'%(P2/1e6))\n",
    "    \n",
    "    print('Dia (mm): %0.5f'%d)\n",
    "    d=d/1000\n",
    "    A=((np.pi*d**2)/4)\n",
    "    G=m/(A*3600)\n",
    "    print('Mass flow rate (kg/h): %0.3f'%m)\n",
    "    print('Sub-cooling: %0.3f'%dt)\n",
    "    T1=CP.PropsSI('T','P',P4,'Q',0,'IsoButane')\n",
    "    T2=T1-dt\n",
    "    h3=CP.PropsSI('H','P',P4,'Q',0,'IsoButane')\n",
    "    #x=CP.PropsSI('Q','P',P2,'H',h2,'IsoButane')\n",
    "    cp=CP.PropsSI('C','P',P4,'Q',0,'IsoButane')\n",
    "    #print('Cp: %0.4f'%cp)\n",
    "    #print(h3/1e3)\n",
    "    #print(x)\n",
    "    h1=h3-cp*dt\n",
    "    #print('h1 and h4: %0.3f'%(h1))\n",
    "    P1=CP.PropsSI('P','T',T2,'Q',0,'IsoButane')\n",
    "    #print('P4: %0.3f'%P4)\n",
    "    #print('P1: %0.3f'%P1)\n",
    "    #print('P2: %0.3f'%P2)\n",
    "    # specific volume at P1\n",
    "    D4=CP.PropsSI('D','P',P4,'Q',0,'IsoButane')\n",
    "    v4=1/D4\n",
    "    #print('Specific volume: %0.3f'%v4)\n",
    "    h2=h1=CP.PropsSI('H','P',P1,'Q',0,'IsoButane')\n",
    "    x=CP.PropsSI('Q','P',P2,'H',h2,'IsoButane')\n",
    "    #print('h1 (Kj/kg): %0.3f'%(h1/1e3))\n",
    "    #print('Dryness factor at 2: %0.3f'%x)\n",
    "    vis_1=CP.PropsSI('V','P',P1,'Q',0,'IsoButane')\n",
    "    vis_l=CP.PropsSI('V','P',P2,'Q',0,'IsoButane')\n",
    "    vis_v=CP.PropsSI('V','P',P2,'Q',1,'IsoButane')\n",
    "    vis_a_star=((x*vis_v)+((1-x)*vis_l))/vis_1\n",
    "    vis_a=vis_a_star*vis_1\n",
    "    #print('Viscosity averagre (muPs): %0.3f'%(vis_a*1e6))\n",
    "    #print('Diameter: %0.4f'%d)\n",
    "    Re=(G*d)/vis_a\n",
    "    #print('Re: %0.3f'%Re)\n",
    "    B=(37530/Re)**16\n",
    "    #print('B ',B)\n",
    "    j=3.27e-4\n",
    "    i=(7/Re)**0.6+0.27*j\n",
    "    A=(2.457*np.log(1/i))**16\n",
    "    #print('A: ',A)\n",
    "    s=(8/Re)**12+(1/((A+B)**(3/2)))\n",
    "    lamb=8*(s**(1/12))\n",
    "    #print('Lambda: ',lamb)\n",
    "    L41=(2*(P4-P1)*d)/(lamb*(G**2)*v4)\n",
    "    #print('L41: %0.3f'%L41)\n",
    "    k1=(2.62*(10**5))/(P1**0.75)\n",
    "    #print(k1)\n",
    "    D1=CP.PropsSI('D','P',P1,'Q',0,'IsoButane')\n",
    "    v1=1/D1\n",
    "    #print('Specific volume: %0.3f'%v1)\n",
    "    k2=(v1*(G**2))/P1\n",
    "    #print('k2: ',k2)\n",
    "    p_star=P2/P1\n",
    "    #print('P*: %0.3f'%p_star)\n",
    "    u=p_star-1-((k1/(1-k1))*np.log(k1+((1-k1)*p_star)))\n",
    "    w=1/(k2*(1-k1))\n",
    "    z=w*u\n",
    "    y=np.log(p_star/(k1+(1-k1)*p_star))\n",
    "    L_star=y-z\n",
    "    L12=(L_star*d*2)/lamb\n",
    "    L=L12+L41\n",
    "    print('Adibatic Length: %0.3f'%L41)\n",
    "    print('Non Adibatic Length: %0.3f'%L12)\n",
    "    print('Total Length: %0.3f'%L)"
   ]
  },
  {
   "cell_type": "code",
   "execution_count": 4,
   "id": "06823782-7a49-46ae-8946-9c343a6e6c6b",
   "metadata": {
    "scrolled": true
   },
   "outputs": [
    {
     "name": "stdout",
     "output_type": "stream",
     "text": [
      "Condenser Pressure (MPa): 0.698\n",
      "Evaporator Pressure (MPa): 0.040\n",
      "Dia (mm): 0.74000\n",
      "Mass flow rate (kg/h): 1.120\n",
      "Sub-cooling: 2.920\n",
      "Adibatic Length: 1.041\n",
      "Non Adibatic Length: 2.129\n",
      "Total Length: 3.171\n"
     ]
    }
   ],
   "source": [
    "capillary_length(0.698e6,0.04e6,2.92,0.74,1.12)"
   ]
  },
  {
   "cell_type": "code",
   "execution_count": 52,
   "id": "ae8248d1-ffe5-4551-bc39-41387db4b402",
   "metadata": {},
   "outputs": [
    {
     "name": "stdout",
     "output_type": "stream",
     "text": [
      "323.9225725272718\n"
     ]
    }
   ],
   "source": [
    "Temp=CP.PropsSI('T','P',0.698e6,'Q',0,'IsoButane')\n",
    "print(Temp)"
   ]
  },
  {
   "cell_type": "code",
   "execution_count": 8,
   "id": "5fa805e1-4b1b-4d34-a308-e45a24658a5a",
   "metadata": {
    "scrolled": true
   },
   "outputs": [
    {
     "name": "stdout",
     "output_type": "stream",
     "text": [
      "239.88608928348663\n"
     ]
    }
   ],
   "source": [
    "Temp=CP.PropsSI('T','P',0.04e6,'Q',0,'IsoButane')\n",
    "print(Temp)"
   ]
  },
  {
   "cell_type": "code",
   "execution_count": 7,
   "id": "652fe17f-4dea-499b-9a78-66900972db99",
   "metadata": {},
   "outputs": [
    {
     "name": "stdout",
     "output_type": "stream",
     "text": [
      "0.14894048348690284\n"
     ]
    }
   ],
   "source": [
    "P_liquid=CP.PropsSI('P','T',271.68,'Q',0,'IsoButane')\n",
    "print((P_liquid/1e6))"
   ]
  },
  {
   "cell_type": "code",
   "execution_count": 8,
   "id": "ea947312-2f69-41a7-808f-5a692ea28114",
   "metadata": {},
   "outputs": [
    {
     "name": "stdout",
     "output_type": "stream",
     "text": [
      "271.6800000000083\n"
     ]
    }
   ],
   "source": [
    "Temp=CP.PropsSI('T','P',P_liquid,'Q',0,'IsoButane')\n",
    "print(Temp)"
   ]
  },
  {
   "cell_type": "code",
   "execution_count": 9,
   "id": "f4c04a01-d44c-4520-ade5-c03ec3250612",
   "metadata": {},
   "outputs": [
    {
     "name": "stdout",
     "output_type": "stream",
     "text": [
      "253.0436923271289\n"
     ]
    }
   ],
   "source": [
    "Temp=CP.PropsSI('T','P',72153.312,'Q',0,'IsoButane')\n",
    "print(Temp)"
   ]
  },
  {
   "cell_type": "code",
   "execution_count": 7,
   "id": "701b7c09-8903-4e31-b8be-d39f8837a9f0",
   "metadata": {},
   "outputs": [
    {
     "name": "stdout",
     "output_type": "stream",
     "text": [
      "401.2503411555929\n"
     ]
    }
   ],
   "source": [
    "Temp=CP.PropsSI('T','P',3.253e6,'Q',0,'IsoButane')\n",
    "print(Temp)"
   ]
  },
  {
   "cell_type": "code",
   "execution_count": 11,
   "id": "cdd4ee85-b5e8-4860-ae87-c9e490132668",
   "metadata": {},
   "outputs": [
    {
     "name": "stdout",
     "output_type": "stream",
     "text": [
      "269.9667550716557\n"
     ]
    }
   ],
   "source": [
    "a=CP.PropsSI('T','P',0.14e6,'Q',0,'IsoButane')\n",
    "print(a)"
   ]
  },
  {
   "cell_type": "code",
   "execution_count": null,
   "id": "b52ac199-1a7c-453e-8c73-7fa2ba7c20c7",
   "metadata": {},
   "outputs": [],
   "source": []
  }
 ],
 "metadata": {
  "kernelspec": {
   "display_name": "Python 3 (ipykernel)",
   "language": "python",
   "name": "python3"
  },
  "language_info": {
   "codemirror_mode": {
    "name": "ipython",
    "version": 3
   },
   "file_extension": ".py",
   "mimetype": "text/x-python",
   "name": "python",
   "nbconvert_exporter": "python",
   "pygments_lexer": "ipython3",
   "version": "3.11.7"
  }
 },
 "nbformat": 4,
 "nbformat_minor": 5
}
